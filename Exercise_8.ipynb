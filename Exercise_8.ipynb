{
 "cells": [
  {
   "cell_type": "markdown",
   "metadata": {
    "execution": {},
    "id": "aQJL3_ZT6mSv"
   },
   "source": [
    "#  Tutorial 8: The Kalman Filter\n",
    "\n",
    "**By Neuromatch Academy**\n",
    "\n",
    "adjusted for Prob ML 2024, University of Tuebingen\n",
    "\n",
    "__Content creators:__ Itzel Olivos Castillo and Xaq Pitkow\n",
    "\n",
    "__Post-production team:__ Gagana B, Spiros Chavlis\n",
    "\n",
    "**Useful reference:**\n",
    "- Roweis, Ghahramani (1998): A unifying review of linear Gaussian Models\n",
    "- Bishop (2006): Pattern Recognition and Machine Learning"
   ]
  },
  {
   "cell_type": "markdown",
   "metadata": {
    "execution": {},
    "id": "Zx-5K4Sa6mS0"
   },
   "source": [
    "---\n",
    "# Tutorial Objectives\n",
    "\n",
    "In this tutorial, we will learn how to infer a *continuous* latent variable using the Kalman filter, which is one version of an Hidden Markov Model HMM.\n",
    "\n",
    "<br>\n",
    "\n",
    "In this tutorial, you will:\n",
    "* Review linear dynamical systems\n",
    "* Learn about the Kalman filter in one dimension\n",
    "* Manipulate parameters of a process to see how the Kalman filter behaves\n",
    "* Think about some core properties of the Kalman filter.\n",
    "\n",
    "You can imagine this inference process happening as Mission Control tries to locate and track Astrocat."
   ]
  },
  {
   "cell_type": "markdown",
   "metadata": {
    "execution": {},
    "id": "lCNda0nd6mS1"
   },
   "source": [
    "---\n",
    "# Setup\n",
    "\n",
    "### Imports and figure settings\n"
   ]
  },
  {
   "cell_type": "code",
   "execution_count": 1,
   "metadata": {
    "execution": {},
    "id": "xuf2WG_D6mS2"
   },
   "outputs": [
    {
     "name": "stderr",
     "output_type": "stream",
     "text": [
      "/home/auguste/software/anaconda3/lib/python3.9/site-packages/scipy/__init__.py:132: UserWarning: A NumPy version >=1.21.6 and <1.28.0 is required for this version of SciPy (detected version 1.21.5)\n",
      "  warnings.warn(f\"A NumPy version >={np_minversion} and <{np_maxversion}\"\n"
     ]
    }
   ],
   "source": [
    "import numpy as np\n",
    "import matplotlib.pyplot as plt\n",
    "from matplotlib import transforms\n",
    "from collections import namedtuple\n",
    "from scipy.stats import norm\n",
    "\n",
    "import ipywidgets as widgets       # interactive display\n",
    "from ipywidgets import interactive, interact, HBox, Layout,VBox\n",
    "from IPython.display import HTML\n",
    "%config InlineBackend.figure_format = 'retina'\n",
    "plt.style.use(\"https://raw.githubusercontent.com/NeuromatchAcademy/course-content/master/nma.mplstyle\")"
   ]
  },
  {
   "cell_type": "markdown",
   "metadata": {},
   "source": [
    "### Helper functions "
   ]
  },
  {
   "cell_type": "code",
   "execution_count": 2,
   "metadata": {
    "cellView": "form",
    "execution": {},
    "id": "OYL41pNN6mS4"
   },
   "outputs": [],
   "source": [
    "def visualize_Astrocat(s, T):\n",
    "  plt.plot(s, color='limegreen', lw=2)\n",
    "  plt.plot([T], [s[-1]], marker='o', markersize=8, color='limegreen')\n",
    "  plt.xlabel('Time t')\n",
    "  plt.ylabel('s(t)')\n",
    "\n",
    "\n",
    "def plot_measurement(s, m, T):\n",
    "  plt.plot(s, color='limegreen', lw=2, label='true position')\n",
    "  plt.plot([T], [s[-1]], marker='o', markersize=8, color='limegreen')\n",
    "  plt.plot(m, 'o', color='crimson', lw=2, label='measurement', markersize=5)\n",
    "  plt.xlabel('Time t')\n",
    "  plt.ylabel('s(t)')\n",
    "  plt.legend()\n",
    "  plt.show()\n",
    "\n",
    "def plot_function(u=1,v=2,w=3,x=4,y=5,z=6):\n",
    "    time=np.arange(0,1,0.01)\n",
    "    df=pd.DataFrame({\"Y1\":np.sin(time*u*2*np.pi),\"y2\":np.sin(time*v*2*np.pi),\"y3\":np.sin(time*w*2*np.pi),\n",
    "                    \"y4\":np.sin(time*x*2*np.pi),\"y5\":np.sin(time*y*2*np.pi),\"y6\":np.sin(time*z*2*np.pi)})\n",
    "    df.plot()\n",
    "    \n",
    "    \n",
    "def plot_filter_and_obs(D, initial_guess, process_noise, measurement_noise, s, m, s_, cov_):\n",
    "    \n",
    "    \n",
    "    filter_s_ = np.zeros(T)    # estimate (posterior mean)\n",
    "    filter_cov_ = np.zeros(T)    # uncertainty (posterior covariance)\n",
    "\n",
    "    posterior = initial_guess\n",
    "    filter_s_[0] = posterior.mean\n",
    "    filter_cov_[0] = posterior.cov\n",
    "\n",
    "    process_noise_std = np.sqrt(process_noise)\n",
    "    measurement_noise_std = np.sqrt(measurement_noise)\n",
    "\n",
    "   \n",
    "    smin = min(min(m),min(s-2*np.sqrt(cov_[-1])),min(s_-2*np.sqrt(cov_[-1])))\n",
    "    smax = max(max(m),max(s+2*np.sqrt(cov_[-1])),max(s_+2*np.sqrt(cov_[-1])))\n",
    "    pscale = 0.2  # scaling factor for displaying pdfs\n",
    "\n",
    "    fig = plt.figure(figsize=[15, 10])\n",
    "    ax = plt.subplot(2, 1, 1)\n",
    "    ax.set_xlabel('time')\n",
    "    ax.set_ylabel('state')\n",
    "    ax.set_xlim([0, T+(T*pscale)])\n",
    "    ax.set_ylim([smin, smax])\n",
    "\n",
    "    ax.plot(t, s, color='limegreen', lw=2, label='Astrocat´s trajectory')\n",
    "    ax.plot([t[-1]], [s[-1]], marker='o', markersize=8, color='limegreen')\n",
    "\n",
    "    ax.plot(t, m, 'o', color='crimson', lw=2, label='measurements', markersize=5)\n",
    "    ax.plot([t[-1]], [m[-1]], marker='o', markersize=8, color='crimson')\n",
    "\n",
    "    ax.plot(t, s_, '--', color='lightgray', lw=2, label='your estimated trajectory')# + res)\n",
    "    ax.plot([t[-1]], [s_[-1]], marker='o', markersize=8, color='lightgray')\n",
    "\n",
    "    plt.legend()\n",
    "    plt.show()\n",
    "    \n",
    "\n",
    "gaussian = namedtuple('Gaussian', ['mean', 'cov'])"
   ]
  },
  {
   "cell_type": "markdown",
   "metadata": {
    "execution": {},
    "id": "8m3PTimM6mS8"
   },
   "source": [
    "---\n",
    "# Section 1: Astrocat Dynamics"
   ]
  },
  {
   "cell_type": "markdown",
   "metadata": {
    "execution": {},
    "id": "OoDo8HPM6mS-"
   },
   "source": [
    "## Section 1.1: Simulating Astrocat's movements"
   ]
  },
  {
   "cell_type": "markdown",
   "metadata": {
    "execution": {},
    "id": "_6Kam8E_6mS-"
   },
   "source": [
    "### Coding Exercise 1.1: Simulating Astrocat's movements\n",
    "\n",
    "First, you will simulate how Astrocat moves based on stochastic linear dynamics.\n",
    "\n",
    "The linear dynamical system $s_t = Ds_{t-1} + w_{t-1}$ determines Astrocat's position $s_t$. $D$ is a scalar that models how Astrocat would like to change its position over time, and $w_t \\sim \\mathcal{N}(0, \\sigma_p^2)$ is white Gaussian noise caused by unreliable actuators in Astrocat's propulsion unit. \n",
    "\n",
    "Complete the code below to simulate possible trajectories.\n",
    "\n",
    "First, execute the following cell to enable the default parameters we will use in this tutorial."
   ]
  },
  {
   "cell_type": "code",
   "execution_count": 3,
   "metadata": {
    "execution": {},
    "id": "SsqS-t-K6mS_"
   },
   "outputs": [],
   "source": [
    "# Fixed params\n",
    "\n",
    "np.random.seed(0)\n",
    "\n",
    "T_max = 200\n",
    "D = 1\n",
    "tau_min = 1\n",
    "tau_max = 50\n",
    "process_noise_min = 0.1\n",
    "process_noise_max = 10\n",
    "measurement_noise_min = 0.1\n",
    "measurement_noise_max = 10\n",
    "\n",
    "unit_process_noise = np.random.randn(T_max)  # compute all N(0, 1) in advance to speed up time slider\n",
    "unit_measurement_noise = np.random.randn(T_max)  # compute all N(0, 1) in advance to speed up time slider"
   ]
  },
  {
   "cell_type": "code",
   "execution_count": null,
   "metadata": {
    "execution": {},
    "id": "VSYi22WF6mS_",
    "scrolled": true
   },
   "outputs": [],
   "source": [
    "def simulate(D, s0, sigma_p, T):\n",
    "  \"\"\" Compute the response of the linear dynamical system.\n",
    "\n",
    "  Args:\n",
    "    D (scalar): dynamics multiplier\n",
    "    s0 (scalar): initial position\n",
    "    sigma_p (scalar): amount of noise in the system (standard deviation)\n",
    "    T (scalar): total duration of the simulation\n",
    "\n",
    "  Returns:\n",
    "    ndarray: `s`: astrocat's trajectory up to time T\n",
    "  \"\"\"\n",
    "\n",
    "  # Initialize variables\n",
    "  s = np.zeros(T+1)\n",
    "  s[0] = s0\n",
    "\n",
    "  # Compute the position at time t given the position at time t-1 for all t\n",
    "  # Consider that np.random.normal(mu, sigma) generates a random sample from\n",
    "  # a gaussian with mean = mu and standard deviation = sigma\n",
    "\n",
    "  for t in range(1, len(s)):\n",
    "\n",
    "    ###################################################################\n",
    "    ## Fill out the following then remove\n",
    "    raise NotImplementedError(\"Student exercise: need to implement simulation\")\n",
    "    ###################################################################\n",
    "\n",
    "    # Update position\n",
    "    s[t] = ...\n",
    "\n",
    "  return s\n",
    "\n",
    "\n",
    "# Set random seed\n",
    "np.random.seed(0)\n",
    "\n",
    "# Set parameters\n",
    "D = 0.9    # parameter in s(t)\n",
    "T = 50      # total time duration\n",
    "s0 = 5.     # initial condition of s at time 0\n",
    "sigma_p = 2 # amount of noise in the actuators of astrocat's propulsion unit\n",
    "\n",
    "# Simulate Astrocat\n",
    "s = simulate(D, s0, sigma_p, T)\n",
    "\n",
    "# Visualize\n",
    "visualize_Astrocat(s, T)"
   ]
  },
  {
   "cell_type": "markdown",
   "metadata": {
    "execution": {},
    "id": "mv4N9nV56mTA"
   },
   "source": [
    "\n",
    "\n",
    "*Example output:*\n",
    "\n",
    "<img alt='Solution hint' align='left' width=827.0 height=540.0 src=https://raw.githubusercontent.com/NeuromatchAcademy/course-content/main/tutorials/W3D2_HiddenDynamics/static/W3D2_Tutorial3_Solution_51a25fff_0.png>\n",
    "\n"
   ]
  },
  {
   "cell_type": "markdown",
   "metadata": {
    "execution": {},
    "id": "5i3Epc1A6mTA"
   },
   "source": [
    "### Interactive Demo 1.1: Playing with Astrocat movement\n",
    "\n",
    "We will use the function you just implemented in a demo, where you can change the value of $D$ and see what happens.\n",
    "\n",
    "#### Answer the following questions:\n",
    "\n",
    "1.   What happens when D is large (>1)? Why?\n",
    "2.   What happens when D is a large negative number (<-1)? Why?\n",
    "3.   What about when D is zero?\n",
    "\n",
    "\n",
    "#### Your answers:\n",
    "\n",
    "1."
   ]
  },
  {
   "cell_type": "markdown",
   "metadata": {},
   "source": [
    "#### Execute this cell to enable the demo"
   ]
  },
  {
   "cell_type": "code",
   "execution_count": null,
   "metadata": {
    "cellView": "form",
    "execution": {},
    "id": "TtokgAXh6mTB"
   },
   "outputs": [],
   "source": [
    "@widgets.interact(D=widgets.FloatSlider(value=-.5, min=-2, max=2, step=0.1))\n",
    "def plot(D=D):\n",
    "\n",
    "    # Set parameters\n",
    "    T = 50      # total time duration\n",
    "    s0 = 5.     # initial condition of s at time 0\n",
    "    sigma_p = 2 # amount of noise in the actuators of astrocat's propulsion unit\n",
    "\n",
    "    # Simulate Astrocat\n",
    "    s = simulate(D, s0, sigma_p, T)\n",
    "\n",
    "    # Visualize\n",
    "    visualize_Astrocat(s, T)"
   ]
  },
  {
   "cell_type": "markdown",
   "metadata": {
    "execution": {},
    "id": "7wIyQb8i6mTC"
   },
   "source": [
    "## Section 1.2: Measuring Astrocat's movements\n"
   ]
  },
  {
   "cell_type": "markdown",
   "metadata": {
    "execution": {},
    "id": "nrdfGC3Q6mTD"
   },
   "source": [
    "### Coding Exercise 1.2.1: Reading measurements from Astrocat's collar\n",
    "\n"
   ]
  },
  {
   "cell_type": "markdown",
   "metadata": {
    "execution": {},
    "id": "gYCHsRUv6mTD"
   },
   "source": [
    "We will estimate Astrocat's actual position using measurements of a noisy sensor attached to its collar. \n",
    "\n",
    "Complete the function below to read measurements from Astrocat's collar. These measurements are correct except for additive Gaussian noise whose standard deviation is given by the input argument `sigma_measurements`."
   ]
  },
  {
   "cell_type": "code",
   "execution_count": null,
   "metadata": {
    "execution": {},
    "id": "CSSsqcW76mTE"
   },
   "outputs": [],
   "source": [
    "def read_collar(s, sigma_measurements):\n",
    "  \"\"\" Compute the measurements of the noisy sensor attached to astrocat's collar\n",
    "\n",
    "  Args:\n",
    "    s (ndarray): astrocat's true position over time\n",
    "    sigma_measurements (scalar): amount of noise in the sensor (standard deviation)\n",
    "\n",
    "  Returns:\n",
    "    ndarray: `m`: astrocat's position over time according to the sensor\n",
    "  \"\"\"\n",
    "\n",
    "  # Initialize variables\n",
    "  m = np.zeros(len(s))\n",
    "\n",
    "  # For all time t, add white Gaussian noise with magnitude sigma_measurements\n",
    "  # Consider that np.random.normal(mu, sigma) generates a random sample from\n",
    "  # a gaussian with mean = mu and standard deviation = sigma\n",
    "\n",
    "  for t in range(len(s)):\n",
    "\n",
    "    ###################################################################\n",
    "    ## Fill out the following then remove\n",
    "    raise NotImplementedError(\"Student exercise: need to implement read_collar function\")\n",
    "    ###################################################################\n",
    "\n",
    "    # Read measurement\n",
    "    m[t] = ...\n",
    "\n",
    "  return m\n",
    "\n",
    "\n",
    "# Set parameters\n",
    "np.random.seed(0)\n",
    "D = 0.9    # parameter in s(t)\n",
    "T = 50      # total time duration\n",
    "s0 = 5.     # initial condition of s at time 0\n",
    "sigma_p = 2 # amount of noise in the actuators of astrocat's propulsion unit\n",
    "sigma_measurements = 4 # amount of noise in astrocat's collar\n",
    "\n",
    "# Simulate Astrocat\n",
    "s = simulate(D, s0, sigma_p, T)\n",
    "\n",
    "# Take measurement from collar\n",
    "m = read_collar(s, sigma_measurements)\n",
    "\n",
    "# Visualize\n",
    "plot_measurement(s, m, T)"
   ]
  },
  {
   "cell_type": "markdown",
   "metadata": {
    "execution": {},
    "id": "jdQJXw5J6mTE"
   },
   "source": [
    "*Example output:*\n",
    "\n",
    "<img alt='Solution hint' align='left' width=778.0 height=577.0 src=https://raw.githubusercontent.com/NeuromatchAcademy/course-content/main/tutorials/W3D2_HiddenDynamics/static/W3D2_Tutorial3_Solution_95010058_0.png>\n",
    "\n"
   ]
  },
  {
   "cell_type": "markdown",
   "metadata": {
    "execution": {},
    "id": "XPOrVRs46mTF"
   },
   "source": [
    "### Coding Exercise 1.2.2: Compare true states to measured states\n",
    "\n"
   ]
  },
  {
   "cell_type": "markdown",
   "metadata": {
    "execution": {},
    "id": "Etz9inJy6mTF"
   },
   "source": [
    "Make a scatter plot to see how bad the measurements of Astrocat's collar are. This exercise will show why using only the measures to track Astrocat can be catastrophic.\n",
    "\n",
    "A Kalman filter will solve this problem!"
   ]
  },
  {
   "cell_type": "code",
   "execution_count": null,
   "metadata": {
    "execution": {},
    "id": "PFQ25B1t6mTF"
   },
   "outputs": [],
   "source": [
    "def compare(s, m):\n",
    "  \"\"\" Compute a scatter plot\n",
    "\n",
    "  Args:\n",
    "    s (ndarray): astrocat's true position over time\n",
    "    m (ndarray): astrocat's measured position over time according to the sensor\n",
    "\n",
    "  \"\"\"\n",
    "  ###################################################################\n",
    "  ## Fill out the following then remove\n",
    "  raise NotImplementedError(\"Student exercise: need to implement compare function\")\n",
    "  ###################################################################\n",
    "\n",
    "  fig = plt.figure()\n",
    "  ax = fig.add_subplot(111)\n",
    "  sbounds = 1.1*max(max(np.abs(s)), max(np.abs(m)))\n",
    "  ax.plot([-sbounds, sbounds], [-sbounds, sbounds], 'k')    # plot line of equality\n",
    "  ax.set_xlabel('state')\n",
    "  ax.set_ylabel('measurement')\n",
    "  ax.set_aspect('equal')\n",
    "\n",
    "  # Complete a scatter plot: true state versus measurements\n",
    "  ...\n",
    "\n",
    "\n",
    "# Set parameters\n",
    "np.random.seed(0)\n",
    "D = 0.9    # parameter in s(t)\n",
    "T = 50      # total time duration\n",
    "s0 = 5.     # initial condition of s at time 0\n",
    "sigma_p = 2 # amount of noise in the actuators of astrocat's propulsion unit\n",
    "sigma_measurements = 4 # amount of noise in astrocat's collar\n",
    "\n",
    "# Simulate Astrocat\n",
    "s = simulate(D, s0, sigma_p, T)\n",
    "\n",
    "# Take measurement from collar\n",
    "m = read_collar(s, sigma_measurements)\n",
    "\n",
    "# Visualize true vs measured states\n",
    "compare(s,m)"
   ]
  },
  {
   "cell_type": "markdown",
   "metadata": {
    "execution": {},
    "id": "UiNiodyU6mTG"
   },
   "source": [
    "*Example output:*\n",
    "\n",
    "<img alt='Solution hint' align='left' width=588.0 height=574.0 src=https://raw.githubusercontent.com/NeuromatchAcademy/course-content/main/tutorials/W3D2_HiddenDynamics/static/W3D2_Tutorial3_Solution_34768073_0.png>\n",
    "\n"
   ]
  },
  {
   "cell_type": "markdown",
   "metadata": {
    "execution": {},
    "id": "oja0woU16mTG"
   },
   "source": [
    "---\n",
    "# Section 2: The Kalman filter\n",
    "\n"
   ]
  },
  {
   "cell_type": "markdown",
   "metadata": {},
   "source": [
    "### Coding Exercise 2.1: Implement your own Kalman filter\n",
    "\n"
   ]
  },
  {
   "cell_type": "markdown",
   "metadata": {},
   "source": [
    "A Kalman filter estimates a posterior probability distribution *recursively* over time using a mathematical model of the process and incoming measurements. This dynamic posterior allows us to improve our guess about Astrocat's position as new measures arrive; besides, its mean is the best estimate one can compute of Astrocat's actual position at each time step.\n",
    "\n",
    "Now it's your turn! Follow this recipe to complete the code below and implement your own Kalman filter:\n",
    "\n",
    "**Step 1: Change yesterday's posterior into today's prior** \n",
    "\n",
    "Use the mathematical model to calculate how deterministic changes in the process shift yesterday's posterior, $\\mathcal{N}(\\mu_{s_{t-1}}, \\sigma_{s_{t-1}}^2)$, and how random changes in the process broaden the shifted distribution:\n",
    "\n",
    "> \\begin{equation}\n",
    "p(s_t|m_{1:t-1}) = p(Ds_{t-1}+w_{t-1} | m_{1:t-1}) = \\mathcal{N}(D\\mu_{s_{t-1}} + 0, D^2\\sigma_{s_{t-1}}^2 +\\sigma_p^2)\n",
    "\\end{equation}\n",
    "\n",
    "Note that we use $\\sigma_p$ here to denote the process noise.\n",
    "\n",
    "**Step 2: Multiply today's prior by likelihood** \n",
    "\n",
    "Use the latest measurement of Astrocat's collar (fresh evidence) to form a new estimate somewhere between this measurement and what we predicted in Step 1. The next posterior is the result of multiplying the Gaussian computed in Step 1 (a.k.a. today's prior) and the likelihood, which is also modeled as a Gaussian $\\mathcal{N}(m_t, \\sigma_m^2)$:\n",
    "\n",
    "**2a: add information from prior and likelihood** \n",
    "\n",
    "To find the posterior variance, we first compute the posterior information (which is the inverse of the variance) by adding the information provided by the prior and the likelihood:\n",
    "\n",
    "> \\begin{equation}\n",
    "\\frac{1}{\\sigma_{s_t}^2} = \\frac{1}{D^2\\sigma_{s_{t-1}}^2 +\\sigma_p^2} + \\frac{1}{\\sigma_m^2}\n",
    "\\end{equation}\n",
    "\n",
    "Now we can take the inverse of the posterior information to get back the posterior variance.\n",
    "\n",
    "**2b: add means from prior and likelihood** \n",
    "\n",
    "To find the posterior mean, we calculate a weighted average of means from prior and likelihood, where each weight, $g$, is just the fraction of information that each Gaussian provides!\n",
    "\n",
    "> \\begin{align}\n",
    "g_{\\rm{prior}} &= \\frac{\\rm{information}_{\\textit{ }\\rm{prior}}}{\\rm{information}_{\\textit{ }\\rm{posterior}}} \\\\\n",
    "g_{\\rm{likelihood}} &= \\frac{\\rm{information}_{\\textit{ }\\rm{likelihood}}}{\\rm{information}_{\\textit{ }\\rm{posterior}}} \\\\\n",
    "\\bar{\\mu}_t &= g_{\\rm{prior}} D\\mu_{s_{t-1}} + g_{\\rm{likelihood}} m_t\n",
    "\\end{align}\n",
    "    \n",
    "Congrats!\n",
    "\n",
    "**Implementation detail:** You can access the statistics of a Gaussian by typing, e.g., \n",
    "\n",
    "```python\n",
    "prior.mean\n",
    "prior.cov\n",
    "```\n",
    "\n",
    "**Optional: Relationship to classic description of Kalman filter:**\n",
    "\n",
    "We're teaching this recipe because it is a bit more interpretable. But the classic description of the Kalman filter is a little different. The above weights, $g_{\\rm{prior}}$ and $g_{\\rm{likelihood}}$, add up to $1$ and can be written one in terms of the other; then, if we let $K = g_{\\rm{likelihood}}$, the posterior mean can be expressed as:\n",
    "\n",
    "\\begin{equation}\n",
    "\\bar{\\mu}_t = (1-K) D\\bar{\\mu}_{t-1} + K m_t = D\\bar{\\mu}_{t-1} + K (m_t - D\\bar{\\mu}_{t-1})\n",
    "\\end{equation}\n",
    "\n",
    "In classic textbooks, you will often find this expression for the posterior mean; $K$ is known as the Kalman gain and its function is to choose a value partway between the current measurement $m_t$ and the prediction from Step 1."
   ]
  },
  {
   "cell_type": "code",
   "execution_count": null,
   "metadata": {
    "execution": {},
    "id": "TYs3y8lP6mTK"
   },
   "outputs": [],
   "source": [
    "# Set random seed\n",
    "np.random.seed(0)\n",
    "\n",
    "# Set parameters\n",
    "T = 50                  # Time duration\n",
    "tau = 25                # dynamics time constant\n",
    "process_noise = 2       # process noise in Astrocat's propulsion unit (standard deviation)\n",
    "measurement_noise = 9   # measurement noise in Astrocat's collar (standard deviation)\n",
    "\n",
    "# Auxiliary variables\n",
    "process_noise_cov = process_noise**2          # process noise in Astrocat's propulsion unit (variance)\n",
    "measurement_noise_cov = measurement_noise**2  # measurement noise in Astrocat's collar (variance)\n",
    "\n",
    "# Initialize arrays\n",
    "t = np.arange(0, T, 1)   # timeline\n",
    "s = np.zeros(T)          # states\n",
    "D = np.exp(-1/tau)       # dynamics multiplier (matrix if s is vector)\n",
    "\n",
    "m = np.zeros(T)          # measurement\n",
    "s_ = np.zeros(T)         # estimate (posterior mean)\n",
    "cov_ = np.zeros(T)       # uncertainty (posterior covariance)\n",
    "\n",
    "# Initial guess of the posterior at time 0\n",
    "initial_guess = gaussian(0, process_noise_cov/(1-D**2))    # In this case, the initial guess (posterior distribution\n",
    "                                                           # at time 0) is the equilibrium distribution, but feel free to\n",
    "                                                           # experiment with other gaussians\n",
    "posterior = initial_guess\n",
    "\n",
    "# Sample initial conditions\n",
    "s[0] = posterior.mean + np.sqrt(posterior.cov) * np.random.randn()   # Sample initial condition from posterior distribution at time 0\n",
    "s_[0] = posterior.mean\n",
    "cov_[0] = posterior.cov\n",
    "\n",
    "# Loop over steps\n",
    "for i in range(1, T):\n",
    "\n",
    "  # Sample true states and corresponding measurements\n",
    "  s[i] = D * s[i-1] + np.random.normal(0, process_noise)    # variable `s` records the true position of Astrocat\n",
    "  m[i] = s[i] + np.random.normal(0, measurement_noise)      # variable `m` records the measurements of Astrocat's collar\n",
    "\n",
    "  ###################################################################\n",
    "  ## Fill out the following then remove\n",
    "  raise NotImplementedError(\"Student exercise: need to implement the Kalman filter\")\n",
    "  ###################################################################\n",
    "\n",
    "  # Step 1. Shift yesterday's posterior to match the deterministic change of the system's dynamics,\n",
    "  #         and broad it to account for the random change (i.e., add mean and variance of process noise).\n",
    "  todays_prior = ...\n",
    "    \n",
    "    # Step 2. Now that yesterday's posterior has become today's prior, integrate new evidence\n",
    "  #         (i.e., multiply gaussians from today's prior and likelihood)\n",
    "  likelihood = ...\n",
    "\n",
    "  # Step 2a:  To find the posterior variance, add informations (inverse variances) of prior and likelihood\n",
    "  info_prior = 1/todays_prior.cov\n",
    "  info_likelihood = ...\n",
    "  info_posterior = ...\n",
    "\n",
    "  # Step 2b: To find the posterior mean, calculate a weighted average of means from prior and likelihood;\n",
    "  #          the weights are just the fraction of information that each gaussian provides!\n",
    "  prior_weight = info_prior / info_posterior\n",
    "  likelihood_weight = info_likelihood / info_posterior\n",
    "  posterior_mean = ...\n",
    "\n",
    "  # Don't forget to convert back posterior information to posterior variance!\n",
    "  posterior_cov = ...\n",
    "  posterior = gaussian(posterior_mean, posterior_cov)\n",
    "\n",
    "  s_[i] = posterior.mean\n",
    "  cov_[i] = posterior.cov\n",
    "\n",
    "# Visualize\n",
    "plot_filter_and_obs(D, initial_guess, process_noise_cov, measurement_noise_cov, s, m, s_, cov_)"
   ]
  },
  {
   "cell_type": "markdown",
   "metadata": {},
   "source": [
    "*Example output:*\n",
    "\n",
    "*Note: Please ignore the black line with the label \"correct estimated trajectory\"*\n",
    "\n",
    "<img alt='Solution hint' align='left' width=1478.0 height=518.0 src=https://raw.githubusercontent.com/NeuromatchAcademy/course-content/main/tutorials/W3D2_HiddenDynamics/static/W3D2_Tutorial3_Solution_6c26b2f4_0.png>\n",
    "\n"
   ]
  },
  {
   "cell_type": "markdown",
   "metadata": {
    "execution": {},
    "id": "5hZQMJqk6mTG"
   },
   "source": [
    "## Section 2.2: Using the Kalman filter\n"
   ]
  },
  {
   "cell_type": "markdown",
   "metadata": {
    "execution": {},
    "id": "4SjTYqmy6mTJ"
   },
   "source": [
    "### Interactive Demo 2.2: The Kalman filter in action\n",
    "\n",
    "Next we provide you with an interactive visualization to understand how the Kalman filter works. Play with the sliders to gain an intuition for how the different factors affect the Kalman filter's inferences. \n",
    "\n",
    "The sliders:\n",
    "* current time: Kalman filter synthesizes measurements up until this time.\n",
    "* dynamics time constant $\\tau$: this determines the dynamics value, $D=\\exp^{-\\Delta t/\\tau}$ where $\\Delta t$ is the discrete time step (here 1).\n",
    "* process noise: amount of noise in the actuators of astrocat's propulsion unit\n",
    "* observation noise: the noise levels of our measurements (when we read the collar)\n",
    "\n",
    "#### Answer the following questions:\n",
    "1. What affects the predictability of Astrocat?\n",
    "2. How does confidence change over time?\n",
    "3. What affects the relative weight of the new measurement?\n",
    "4. How is the error related to the posterior variance?\n",
    "\n",
    "\n",
    "#### Your answers to the questions:\n",
    "\n",
    "1. "
   ]
  },
  {
   "cell_type": "markdown",
   "metadata": {},
   "source": [
    "### Coding Exercise 2.2: Write a Kalman filter function\n",
    "\n",
    "In order to use the interactive widget, write a filter function that basically performs the steps you implemented above again for a single measurement m at a specific timepoint, such that it fits in the code in the cell below. "
   ]
  },
  {
   "cell_type": "code",
   "execution_count": null,
   "metadata": {},
   "outputs": [],
   "source": [
    "\n",
    "\n",
    "def filter(D, process_noise, measurement_noise, posterior, m):\n",
    "    \n",
    "    ###################################################################\n",
    "    ## Fill out the following then remove\n",
    "    raise NotImplementedError(\"Student exercise: need to implement the Kalman filter\")\n",
    "    ###################################################################\n",
    "\n",
    "    todays_prior = ...\n",
    "    likelihood = ...\n",
    "\n",
    "    info_prior = 1/todays_prior.cov\n",
    "    info_likelihood = ...\n",
    "    info_posterior = ...\n",
    "\n",
    "    prior_weight = info_prior / info_posterior\n",
    "    likelihood_weight = info_likelihood / info_posterior\n",
    "    posterior_mean = ...\n",
    "    \n",
    "    posterior_cov = ...\n",
    "    todays_posterior = gaussian(posterior_mean, posterior_cov)\n",
    "    \n",
    "    return todays_prior, likelihood, todays_posterior\n",
    "\n"
   ]
  },
  {
   "cell_type": "code",
   "execution_count": null,
   "metadata": {
    "cellView": "form",
    "execution": {},
    "id": "l11LDqDM6mTJ"
   },
   "outputs": [],
   "source": [
    "# @markdown Execute this cell to enable the demo. It takes a few seconds to update so please be patient.\n",
    "display(HTML('''<style>.widget-label { min-width: 15ex !important; }</style>'''))\n",
    "\n",
    "@widgets.interact(T=widgets.IntSlider(T_max/4, description=\"current time\", min=1, max=T_max-1),\n",
    "                  tau=widgets.FloatSlider(tau_max/2, description='dynamics time constant', min=tau_min, max=tau_max),\n",
    "                  process_noise=widgets.FloatSlider(2, description=\"process noise\", min=process_noise_min, max=process_noise_max),\n",
    "                  measurement_noise=widgets.FloatSlider(3, description=\"observation noise\", min=measurement_noise_min, max=measurement_noise_max),\n",
    "                  flag_s = widgets.Checkbox(value=True, description='state', disabled=True, indent=False),\n",
    "                  flag_m = widgets.Checkbox(value=False, description='measurement', disabled=False, indent=False),\n",
    "                  flag_s_ = widgets.Checkbox(value=False, description='estimate', disabled=False, indent=False),\n",
    "                  flag_err_ = widgets.Checkbox(value=False, description='estimator confidence intervals', disabled=False, indent=False))\n",
    "\n",
    "def stochastic_system(T, tau, process_noise, measurement_noise, flag_m, flag_s_, flag_err_):\n",
    "    t = np.arange(0, T_max, 1)              # timeline\n",
    "    s = np.zeros(T_max)                     # states\n",
    "    D = np.exp(-1/tau)                      # dynamics multiplier (matrix if s is vector)\n",
    "    process_noise_cov = process_noise**2\n",
    "    measurement_noise_cov = measurement_noise**2\n",
    "\n",
    "    prior_mean = 0\n",
    "    prior_cov = process_noise_cov/(1-D**2)\n",
    "\n",
    "    s[0] = np.sqrt(prior_cov) * unit_process_noise[0]   # Sample initial condition from equilibrium distribution\n",
    "\n",
    "    m = np.zeros(T_max)    # measurement\n",
    "    s_ = np.zeros(T_max)    # estimate (posterior mean)\n",
    "    cov_ = np.zeros(T_max)    # uncertainty (posterior covariance)\n",
    "\n",
    "    s_[0] = prior_mean\n",
    "    cov_[0] = prior_cov\n",
    "    posterior = gaussian(prior_mean, prior_cov)\n",
    "\n",
    "    captured_prior = None\n",
    "    captured_likelihood = None\n",
    "    captured_posterior = None\n",
    "\n",
    "    onfilter = True\n",
    "    for i in range(1, T_max):\n",
    "        s[i] = D * s[i-1] + process_noise * unit_process_noise[i-1]\n",
    "\n",
    "        if onfilter:\n",
    "          m[i] = s[i] + measurement_noise * unit_measurement_noise[i]\n",
    "\n",
    "            \n",
    "          ###################################################################\n",
    "          #  first correctly implement this filter to make the widget work  #\n",
    "          ###################################################################\n",
    "            \n",
    "          prior, likelihood, posterior = filter(D, process_noise_cov, measurement_noise_cov, posterior, m[i])\n",
    "\n",
    "          s_[i] =  posterior.mean\n",
    "          cov_[i] = posterior.cov\n",
    "\n",
    "        if i == T:\n",
    "          onfilter = False\n",
    "          captured_prior = prior\n",
    "          captured_likelihood = likelihood\n",
    "          captured_posterior = posterior\n",
    "\n",
    "    smin = min(min(m),min(s-2*np.sqrt(cov_[-1])),min(s_-2*np.sqrt(cov_[-1])))\n",
    "    smax = max(max(m),max(s+2*np.sqrt(cov_[-1])),max(s_+2*np.sqrt(cov_[-1])))\n",
    "    pscale = 0.2  # scaling factor for displaying pdfs\n",
    "\n",
    "    fig = plt.figure(figsize=[15, 10])\n",
    "    ax = plt.subplot(2, 1, 1)\n",
    "    ax.set_xlabel('time')\n",
    "    ax.set_ylabel('state')\n",
    "    ax.set_xlim([0, T_max+(T_max*pscale)])\n",
    "    ax.set_ylim([smin, smax])\n",
    "\n",
    "    show_pdf = [False, False]\n",
    "    ax.plot(t[:T+1], s[:T+1], color='limegreen', lw=2)\n",
    "    ax.plot(t[T:], s[T:], color='limegreen', lw=2, alpha=0.3)\n",
    "    ax.plot([t[T:T+1]], [s[T:T+1]], marker='o', markersize=8, color='limegreen')\n",
    "\n",
    "    if flag_m:\n",
    "        ax.plot(t[:T+1], m[:T+1], '.', color='crimson', lw=2, markersize=8)\n",
    "        ax.plot([t[T:T+1]], [m[T:T+1]], marker='o', markersize=8, color='crimson')\n",
    "\n",
    "        domain = np.linspace(ax.get_ylim()[0], ax.get_ylim()[1], 500)\n",
    "        pdf_likelihood = norm.pdf(domain, captured_likelihood.mean, np.sqrt(captured_likelihood.cov))\n",
    "        ax.fill_betweenx(domain, T + pdf_likelihood*(T_max*pscale), T, color='crimson', alpha=0.5, label='likelihood', edgecolor=\"crimson\", linewidth=0)\n",
    "        ax.plot(T + pdf_likelihood*(T_max*pscale), domain, color='crimson', linewidth=2.0)\n",
    "\n",
    "        ax.legend(ncol=3, loc='upper left')\n",
    "        show_pdf[0] = True\n",
    "\n",
    "    if flag_s_:\n",
    "        ax.plot(t[:T+1], s_[:T+1], color='black', lw=2)\n",
    "        ax.plot([t[T:T+1]], [s_[T:T+1]], marker='o', markersize=8, color='black')\n",
    "        show_pdf[1] = True\n",
    "\n",
    "    if flag_err_:\n",
    "        ax.fill_between(t[:T+1], s_[:T+1] + 2 * np.sqrt(cov_)[:T+1], s_[:T+1] - 2 * np.sqrt(cov_)[:T+1], color='black', alpha=0.3)\n",
    "        show_pdf[1] = True\n",
    "\n",
    "    if show_pdf[1]:\n",
    "        domain = np.linspace(ax.get_ylim()[0], ax.get_ylim()[1], 500)\n",
    "        pdf_post = norm.pdf(domain, captured_posterior.mean, np.sqrt(captured_posterior.cov))\n",
    "        ax.fill_betweenx(domain, T + pdf_post*(T_max*pscale), T, color='black', alpha=0.5, label='posterior', edgecolor=\"black\", linewidth=0)\n",
    "        ax.plot(T + pdf_post*(T_max*pscale), domain, color='black', linewidth=2.0)\n",
    "        ax.legend(ncol=3, loc='upper left')\n",
    "\n",
    "    if show_pdf[0] and show_pdf[1]:\n",
    "        domain = np.linspace(ax.get_ylim()[0], ax.get_ylim()[1], 500)\n",
    "        pdf_prior = norm.pdf(domain, captured_prior.mean, np.sqrt(captured_prior.cov))\n",
    "        ax.fill_betweenx(domain, T + pdf_prior*(T_max*pscale), T, color='dodgerblue', alpha=0.5, label='prior', edgecolor=\"dodgerblue\", linewidth=0)\n",
    "        ax.plot(T + pdf_prior*(T_max*pscale), domain, color='dodgerblue', linewidth=2.0)\n",
    "        ax.legend(ncol=3, loc='upper left')\n",
    "\n",
    "plt.show()"
   ]
  },
  {
   "cell_type": "markdown",
   "metadata": {},
   "source": [
    "## Section 2.2: Estimation accuracy\n"
   ]
  },
  {
   "cell_type": "markdown",
   "metadata": {},
   "source": [
    "### Interactive Demo 2.2: Compare states, estimates, and measurements\n",
    "\n",
    "#### Answer the following questions:\n",
    "1. How well do the estimates $\\hat{s}$ match the actual values $s$? Why? Try different parameters of the Hidden Markov Model and observe how the properties change.\n",
    "2. How do the _measurements_ $m$ compare to the true states?\n",
    "\n",
    "\n",
    "#### Your answers to the questions:\n",
    "\n",
    "1. "
   ]
  },
  {
   "cell_type": "code",
   "execution_count": null,
   "metadata": {},
   "outputs": [],
   "source": [
    "# @markdown Execute cell to enable the demo\n",
    "display(HTML('''<style>.widget-label { min-width: 15ex !important; }</style>'''))\n",
    "\n",
    "@widgets.interact(tau=widgets.FloatSlider(tau_max/2, description='tau', min=tau_min, max=tau_max),\n",
    "                  process_noise=widgets.FloatSlider(2, description=\"process noise\", min=process_noise_min, max=process_noise_max),\n",
    "                  measurement_noise=widgets.FloatSlider(3, description=\"observation noise\", min=measurement_noise_min, max=measurement_noise_max),\n",
    "                  flag_m = widgets.Checkbox(value=False, description='measurements', disabled=False, indent=False))\n",
    "\n",
    "def stochastic_system(tau, process_noise, measurement_noise, flag_m):\n",
    "    T = T_max\n",
    "    t = np.arange(0, T_max, 1)              # timeline\n",
    "    s = np.zeros(T_max)                     # states\n",
    "    D = np.exp(-1/tau)                      # dynamics multiplier (matrix if s is vector)\n",
    "\n",
    "    process_noise_cov = process_noise**2          # process noise in Astrocat's propulsion unit (variance)\n",
    "    measurement_noise_cov = measurement_noise**2  # measurement noise in Astrocat's collar (variance)\n",
    "\n",
    "    prior_mean = 0\n",
    "    prior_cov = process_noise_cov/(1-D**2)\n",
    "\n",
    "\n",
    "    s[0] = np.sqrt(prior_cov) * np.random.randn()   # Sample initial condition from equilibrium distribution\n",
    "\n",
    "    m = np.zeros(T_max)    # measurement\n",
    "    s_ = np.zeros(T_max)    # estimate (posterior mean)\n",
    "    cov_ = np.zeros(T_max)    # uncertainty (posterior covariance)\n",
    "\n",
    "    s_[0] = prior_mean\n",
    "    cov_[0] = prior_cov\n",
    "    posterior = gaussian(prior_mean, prior_cov)\n",
    "\n",
    "    for i in range(1, T):\n",
    "        s[i] = D * s[i-1] + process_noise * np.random.randn()\n",
    "        m[i] = s[i] + measurement_noise * np.random.randn()\n",
    "\n",
    "        prior, likelihood, posterior = filter(D, process_noise_cov, measurement_noise_cov, posterior, m[i])\n",
    "\n",
    "        s_[i] =  posterior.mean\n",
    "        cov_[i] = posterior.cov\n",
    "\n",
    "    fig = plt.figure(figsize=[10, 5])\n",
    "    ax = plt.subplot(1, 2, 1)\n",
    "    ax.set_xlabel('s')\n",
    "    ax.set_ylabel('$\\mu$')\n",
    "\n",
    "    sbounds = 1.1*max(max(np.abs(s)), max(np.abs(s_)), max(np.abs(m)))\n",
    "    ax.plot([-sbounds, sbounds], [-sbounds, sbounds], 'k')    # plot line of equality\n",
    "    ax.errorbar(s, s_, yerr=2*np.sqrt(cov_[-1]), marker='.', mfc='black', mec='black', linestyle='none', color='gray')\n",
    "\n",
    "    axhist = plt.subplot(1, 2, 2)\n",
    "    axhist.set_xlabel('error $s-\\hat{s}$')\n",
    "    axhist.set_ylabel('probability')\n",
    "    axhist.hist(s-s_, density=True, bins=25, alpha=.5, label='histogram of estimate errors', color='yellow')\n",
    "\n",
    "    if flag_m:\n",
    "        ax.plot(s, m, marker='.', linestyle='none', color='red')\n",
    "        axhist.hist(s-m,density=True,bins=25,alpha=.5,label='histogram of measurement errors',color='orange')\n",
    "\n",
    "    domain = np.arange(-sbounds, sbounds, 0.1)\n",
    "    pdf_g = norm.pdf(domain, 0, np.sqrt(cov_[-1]))\n",
    "    axhist.fill_between(domain, pdf_g, color='black', alpha=0.5, label=r'posterior shifted to mean')\n",
    "    axhist.legend()\n",
    "\n",
    "plt.show()"
   ]
  },
  {
   "cell_type": "markdown",
   "metadata": {
    "execution": {},
    "id": "Bjt-6Rrx6mTP"
   },
   "source": [
    "---\n",
    "# Summary\n",
    "\n",
    "\n",
    "In this tutorial, you:\n",
    "- simulated a 1D continuous linear dynamical system and took noisy measurements of the hidden state\n",
    "- used a Kalman filter to recover the hidden states more accurately than if you just used the noisy measurements and connected this to Bayesian ideas\n",
    "- played around with parameters of the process to better understand Kalman filter behavior\n"
   ]
  }
 ],
 "metadata": {
  "anaconda-cloud": {},
  "colab": {
   "collapsed_sections": [],
   "name": "AS_W3D2_Tutorial3",
   "provenance": [],
   "toc_visible": true
  },
  "kernel": {
   "display_name": "Python 3",
   "language": "python",
   "name": "python3"
  },
  "kernelspec": {
   "display_name": "Python 3 (ipykernel)",
   "language": "python",
   "name": "python3"
  },
  "language_info": {
   "codemirror_mode": {
    "name": "ipython",
    "version": 3
   },
   "file_extension": ".py",
   "mimetype": "text/x-python",
   "name": "python",
   "nbconvert_exporter": "python",
   "pygments_lexer": "ipython3",
   "version": "3.9.7"
  },
  "pycharm": {
   "stem_cell": {
    "cell_type": "raw",
    "metadata": {
     "collapsed": false
    },
    "source": []
   }
  },
  "widgets": {
   "application/vnd.jupyter.widget-state+json": {
    "283e8916295f48f690bf6b2c70c76b72": {
     "model_module": "@jupyter-widgets/controls",
     "model_module_version": "1.5.0",
     "model_name": "TabModel",
     "state": {
      "_dom_classes": [],
      "_model_module": "@jupyter-widgets/controls",
      "_model_module_version": "1.5.0",
      "_model_name": "TabModel",
      "_titles": {
       "0": "Youtube",
       "1": "Bilibili"
      },
      "_view_count": null,
      "_view_module": "@jupyter-widgets/controls",
      "_view_module_version": "1.5.0",
      "_view_name": "TabView",
      "box_style": "",
      "children": [
       "IPY_MODEL_a93bff7f8442489abf202ea8e6464097",
       "IPY_MODEL_6cd52c62a1f5410b8f829052479767c1"
      ],
      "layout": "IPY_MODEL_331998ed0cb8497bbb6d4ac0c5e38cbe",
      "selected_index": 0
     }
    },
    "331998ed0cb8497bbb6d4ac0c5e38cbe": {
     "model_module": "@jupyter-widgets/base",
     "model_module_version": "1.2.0",
     "model_name": "LayoutModel",
     "state": {
      "_model_module": "@jupyter-widgets/base",
      "_model_module_version": "1.2.0",
      "_model_name": "LayoutModel",
      "_view_count": null,
      "_view_module": "@jupyter-widgets/base",
      "_view_module_version": "1.2.0",
      "_view_name": "LayoutView",
      "align_content": null,
      "align_items": null,
      "align_self": null,
      "border": null,
      "bottom": null,
      "display": null,
      "flex": null,
      "flex_flow": null,
      "grid_area": null,
      "grid_auto_columns": null,
      "grid_auto_flow": null,
      "grid_auto_rows": null,
      "grid_column": null,
      "grid_gap": null,
      "grid_row": null,
      "grid_template_areas": null,
      "grid_template_columns": null,
      "grid_template_rows": null,
      "height": null,
      "justify_content": null,
      "justify_items": null,
      "left": null,
      "margin": null,
      "max_height": null,
      "max_width": null,
      "min_height": null,
      "min_width": null,
      "object_fit": null,
      "object_position": null,
      "order": null,
      "overflow": null,
      "overflow_x": null,
      "overflow_y": null,
      "padding": null,
      "right": null,
      "top": null,
      "visibility": null,
      "width": null
     }
    },
    "6cd52c62a1f5410b8f829052479767c1": {
     "model_module": "@jupyter-widgets/output",
     "model_module_version": "1.0.0",
     "model_name": "OutputModel",
     "state": {
      "_dom_classes": [],
      "_model_module": "@jupyter-widgets/output",
      "_model_module_version": "1.0.0",
      "_model_name": "OutputModel",
      "_view_count": null,
      "_view_module": "@jupyter-widgets/output",
      "_view_module_version": "1.0.0",
      "_view_name": "OutputView",
      "layout": "IPY_MODEL_c875e42324a04f0680a7825658cae5f7",
      "msg_id": "",
      "outputs": [
       {
        "name": "stdout",
        "output_type": "stream",
        "text": [
         "Video available at https://www.bilibili.com/video/BV1hP4y147EC\n"
        ]
       },
       {
        "data": {
         "text/html": "\n        <iframe\n            width=\"854\"\n            height=\"480\"\n            src=\"https://player.bilibili.com/player.html?bvid=BV1hP4y147EC&page=1?fs=1\"\n            frameborder=\"0\"\n            allowfullscreen\n        ></iframe>\n        ",
         "text/plain": "<__main__.BiliVideo at 0x7f35ebd2fe10>"
        },
        "metadata": {},
        "output_type": "display_data"
       }
      ]
     }
    },
    "a93bff7f8442489abf202ea8e6464097": {
     "model_module": "@jupyter-widgets/output",
     "model_module_version": "1.0.0",
     "model_name": "OutputModel",
     "state": {
      "_dom_classes": [],
      "_model_module": "@jupyter-widgets/output",
      "_model_module_version": "1.0.0",
      "_model_name": "OutputModel",
      "_view_count": null,
      "_view_module": "@jupyter-widgets/output",
      "_view_module_version": "1.0.0",
      "_view_name": "OutputView",
      "layout": "IPY_MODEL_b4d3b7b3e1b249c4a0166a59fd8d300a",
      "msg_id": "",
      "outputs": [
       {
        "name": "stdout",
        "output_type": "stream",
        "text": [
         "Video available at https://youtube.com/watch?v=P1jFKXDzAYQ\n"
        ]
       },
       {
        "data": {
         "image/jpeg": "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\n",
         "text/html": "\n        <iframe\n            width=\"854\"\n            height=\"480\"\n            src=\"https://www.youtube.com/embed/P1jFKXDzAYQ?fs=1&rel=0\"\n            frameborder=\"0\"\n            allowfullscreen\n        ></iframe>\n        ",
         "text/plain": "<IPython.lib.display.YouTubeVideo at 0x7f35ebd2f190>"
        },
        "metadata": {},
        "output_type": "display_data"
       }
      ]
     }
    },
    "b4d3b7b3e1b249c4a0166a59fd8d300a": {
     "model_module": "@jupyter-widgets/base",
     "model_module_version": "1.2.0",
     "model_name": "LayoutModel",
     "state": {
      "_model_module": "@jupyter-widgets/base",
      "_model_module_version": "1.2.0",
      "_model_name": "LayoutModel",
      "_view_count": null,
      "_view_module": "@jupyter-widgets/base",
      "_view_module_version": "1.2.0",
      "_view_name": "LayoutView",
      "align_content": null,
      "align_items": null,
      "align_self": null,
      "border": null,
      "bottom": null,
      "display": null,
      "flex": null,
      "flex_flow": null,
      "grid_area": null,
      "grid_auto_columns": null,
      "grid_auto_flow": null,
      "grid_auto_rows": null,
      "grid_column": null,
      "grid_gap": null,
      "grid_row": null,
      "grid_template_areas": null,
      "grid_template_columns": null,
      "grid_template_rows": null,
      "height": null,
      "justify_content": null,
      "justify_items": null,
      "left": null,
      "margin": null,
      "max_height": null,
      "max_width": null,
      "min_height": null,
      "min_width": null,
      "object_fit": null,
      "object_position": null,
      "order": null,
      "overflow": null,
      "overflow_x": null,
      "overflow_y": null,
      "padding": null,
      "right": null,
      "top": null,
      "visibility": null,
      "width": null
     }
    },
    "c875e42324a04f0680a7825658cae5f7": {
     "model_module": "@jupyter-widgets/base",
     "model_module_version": "1.2.0",
     "model_name": "LayoutModel",
     "state": {
      "_model_module": "@jupyter-widgets/base",
      "_model_module_version": "1.2.0",
      "_model_name": "LayoutModel",
      "_view_count": null,
      "_view_module": "@jupyter-widgets/base",
      "_view_module_version": "1.2.0",
      "_view_name": "LayoutView",
      "align_content": null,
      "align_items": null,
      "align_self": null,
      "border": null,
      "bottom": null,
      "display": null,
      "flex": null,
      "flex_flow": null,
      "grid_area": null,
      "grid_auto_columns": null,
      "grid_auto_flow": null,
      "grid_auto_rows": null,
      "grid_column": null,
      "grid_gap": null,
      "grid_row": null,
      "grid_template_areas": null,
      "grid_template_columns": null,
      "grid_template_rows": null,
      "height": null,
      "justify_content": null,
      "justify_items": null,
      "left": null,
      "margin": null,
      "max_height": null,
      "max_width": null,
      "min_height": null,
      "min_width": null,
      "object_fit": null,
      "object_position": null,
      "order": null,
      "overflow": null,
      "overflow_x": null,
      "overflow_y": null,
      "padding": null,
      "right": null,
      "top": null,
      "visibility": null,
      "width": null
     }
    }
   }
  }
 },
 "nbformat": 4,
 "nbformat_minor": 1
}

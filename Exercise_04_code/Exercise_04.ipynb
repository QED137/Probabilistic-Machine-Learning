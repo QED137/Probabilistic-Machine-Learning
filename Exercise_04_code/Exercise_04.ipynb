{
 "cells": [
  {
   "cell_type": "markdown",
   "metadata": {},
   "source": [
    "# GP Regression \n",
    "The focus this week is on modelling the CO2 concentration at Mauna Loa using Gaussian Process Regression."
   ]
  },
  {
   "cell_type": "markdown",
   "metadata": {},
   "source": [
    "## Overview\n",
    "- **Task 1**: Implement your own kernel and requirements for hyperparameter optimization.\n",
    "- **Task 2**: Use `scikit-learn.gaussian_process` to build and fit a model to the provided CO$_2$ data and extrapolate."
   ]
  },
  {
   "cell_type": "markdown",
   "metadata": {},
   "source": [
    "**Note**: This notebook relies on the packages `numpy`, `matplotlib`, `scipy` and `scikit-learn`"
   ]
  },
  {
   "cell_type": "code",
   "execution_count": 8,
   "metadata": {},
   "outputs": [],
   "source": [
    "# Necessary packages for first part\n",
    "import numpy as np\n",
    "import matplotlib.pyplot as plt\n",
    "import matplotlib as mpl\n",
    "import os \n",
    "import scipy.optimize\n",
    "\n",
    "# %matplotlib notebook\n",
    "%matplotlib inline"
   ]
  },
  {
   "cell_type": "markdown",
   "metadata": {},
   "source": [
    "# Task 1\n",
    "Below you will find the code for a class `SquareExponential(Kernel)` which is defined by the two hyperparameters $\\ell$ and $\\sigma$:\n",
    "\n",
    "$$\n",
    "K(x_1,x_2)= \\sigma^2 \\exp\\left(-\\frac{(x_1-x_2)^2}{2\\ell^2}\\right)\n",
    "$$\n",
    "\n",
    "**Tasks**:\n",
    "1. Implement `SquareExponential.K` to return the expression above.\n",
    "2. Implement `SquareExponential.dK_dl` to return the derivative w.r.t. $\\ell$ and fill in your expression below.\n",
    "3. Implement `SquareExponential.dK_dsigma` to return the derivative w.r.t. $\\sigma$ and fill in your expression below.\n",
    "\n",
    "Derivative w.r.t. $\\ell$:\n",
    "\n",
    "\n",
    "Derivative w.r.t. $\\sigma$:\n",
    "\n",
    "Hint: Try to \"resuse\" $K(x_1,x_2)$ in your expressions and implementations.\n",
    "\n",
    "The cell below also contains a utility function `test_dK_dl` which compares your implemented derivative against a numerical approximation."
   ]
  },
  {
   "cell_type": "code",
   "execution_count": null,
   "metadata": {},
   "outputs": [],
   "source": [
    "from utils import Kernel, test_dK_dl\n",
    "        \n",
    "class SquareExponential(Kernel):\n",
    "    \n",
    "    def __init__(self,sigma=1,ell=1,**kwargs):\n",
    "        super().__init__(**kwargs)\n",
    "        self.params['sigma']=sigma\n",
    "        self.params['ell']=ell\n",
    "        \n",
    "\n",
    "    def K(self,x1,x2):\n",
    "        \"\"\"Returns the kernel applied to the inputs x1 and x2. Expects inputs of shape: \n",
    "        x1: (N1,1)\n",
    "        x2: (N2,1)\n",
    "        returns: kernel matrix of shape (N1,N2)\n",
    "        \"\"\"\n",
    "        ####################\n",
    "        raise NotImplementedError\n",
    "        ####################\n",
    "        \n",
    "    \n",
    "    def dK_dl(self,X):\n",
    "        \"\"\" \n",
    "        Expects input X of shape (N,1) and returns the (N,N) matrix\n",
    "        with the derivative w.r.t. ell  applied elementwise to K(X,X) \n",
    "        \"\"\"\n",
    "        ####################\n",
    "        raise NotImplementedError\n",
    "        ####################\n",
    "    \n",
    "    def dK_dsigma(self,X):\n",
    "        \"\"\" \n",
    "        Expects input X of shape (N,1) and returns the (N,N) matrix\n",
    "        with the derivative w.r.t. sigma  applied elementwise to K(X,X) \n",
    "        \"\"\"\n",
    "        ####################\n",
    "        raise NotImplementedError\n",
    "        ####################\n",
    "    \n",
    "\n",
    "test_dK_dl(SquareExponential(),eps=1e-3,verbose=False)   "
   ]
  },
  {
   "cell_type": "markdown",
   "metadata": {},
   "source": [
    "### Test kernel\n",
    "If you have implemented the function for calculating $K(x_1,x_2)$ then you can run the code below and try it out.\n",
    "\n",
    "We will model a latent function $f$ as:\n",
    "$$\n",
    "p(f)=\\mathcal{GP}(0,K_{se})\n",
    "$$\n",
    "\n",
    "with uncorrelated gaussian noise with variance $\\sigma_n^2$:\n",
    "\n",
    "$$\n",
    "p(Y\\mid f, X)=\\mathcal{N}(Y; f(X), \\sigma_n^2 I) \n",
    "$$\n",
    "\n",
    "For details on the calculations see the lecture slides."
   ]
  },
  {
   "cell_type": "code",
   "execution_count": 9,
   "metadata": {},
   "outputs": [
    {
     "data": {
      "image/png": "[encoded data removed]",
      "text/plain": [
       "<Figure size 432x288 with 1 Axes>"
      ]
     },
     "metadata": {
      "needs_background": "light"
     },
     "output_type": "display_data"
    }
   ],
   "source": [
    "# Generate some data\n",
    "\n",
    "def forrester(x):\n",
    "    return (6*x - 2)**2*np.sin(12*x-4)\n",
    "\n",
    "np.random.seed(42)\n",
    "X=np.array([0.1,0.2,0.3,0.5,0.6,0.7,0.9,0.95]).reshape(-1,1)\n",
    "Y=forrester(X)+0.3*np.random.randn(*X.shape) # add normal distributed noise with standard deviation 0.3\n",
    "\n",
    "plt.figure()\n",
    "x=np.linspace(0,1,100).reshape(-1,1)\n",
    "plt.plot(x,forrester(x),'k',label='Real function')\n",
    "plt.scatter(X,Y,alpha=1,marker='o',color='C0',label='Data')\n",
    "plt.legend()\n",
    "plt.show()"
   ]
  },
  {
   "cell_type": "code",
   "execution_count": null,
   "metadata": {},
   "outputs": [],
   "source": [
    "####################\n",
    "# Test out different hyperparameters (SE_sigma,SE_ell) below and see how the visual quality of\n",
    "# the predictions change. \n",
    "# You can also try to maximize the marginal likelihood by hand.\n",
    "####################\n",
    "SE_sigma=None\n",
    "SE_ell=None\n",
    "####################\n",
    "\n",
    "\n",
    "Kse=SquareExponential(sigma=SE_sigma,ell=SE_ell,noise=0.3)\n",
    "\n",
    "# alpha = inv(K_y).dot(Y)\n",
    "alpha,log_ml=Kse.condition_f_observation(X,Y)\n",
    "\n",
    "print('Log marginal likelihood: {}'.format(log_ml))\n",
    "\n",
    "# Make predictions at x\n",
    "x=np.linspace(0,1,100).reshape(-1,1)\n",
    "\n",
    "# Calculate covariance between test data x and training data X\n",
    "KxX=Kse.K(x,X)\n",
    "\n",
    "#Calculate mean\n",
    "fx=KxX.dot(alpha)\n",
    "\n",
    "#Calculate variance\n",
    "v=np.linalg.solve(Kse.L,KxX.T).T\n",
    "f_std=np.sqrt(np.diag(Kse.K(x,x) - v.dot(v.T)))\n",
    "\n",
    "\n",
    "#plot data, mean and variance\n",
    "plt.figure()\n",
    "plt.plot(x,forrester(x),'k',label='Real function')\n",
    "plt.plot(x,fx,'C1',label='f(x)')\n",
    "plt.fill_between(x.ravel(),fx.ravel()-1.96*f_std,fx.ravel()+1.96*f_std,color='C1',alpha=0.3,label='95%')\n",
    "plt.scatter(X,Y,alpha=1,marker='o',color='C0',label='Data')\n",
    "plt.legend()\n",
    "plt.show()"
   ]
  },
  {
   "cell_type": "markdown",
   "metadata": {},
   "source": [
    "**Interlude**\n",
    "\n",
    "Finding suitable hyperparameters can be tiresome but it can be automated if we have access to derivatives of the kernel w.r.t. hyperparameters.\n",
    "\n",
    "We can find the the hyperparameters that maximize the log-marginal likelihood. \n",
    "The function that we want to maximize is:\n",
    "$$\n",
    "\\log p(Y\\mid X,\\theta)= -\\frac{1}{2}Y^\\top K_Y^{-1} Y - \\frac{1}{2}\\log|K_Y| +C \n",
    "$$\n",
    "Where in our case \n",
    "$$K_y= K_{SE}(X,X) +\\sigma^2_n I$$\n",
    "The derivative of the above expression w.r.t. to the kernel hyperparameters ($\\theta$) is given by \n",
    "\n",
    "$$\n",
    "\\frac{\\partial}{\\partial \\theta} \\log p(Y\\mid X,\\theta)=\\frac{1}{2}Y^\\top K_y^{-1} \\frac{\\partial K}{\\partial \\theta} K_y^{-1}Y -\\frac{1}{2}\\operatorname{tr} \\left(K_y^{-1}\\frac{\\partial K}{\\partial \\theta} \\right) =\\\\\n",
    "= \\frac{1}{2}\\left( (\\alpha \\alpha^\\top - K_y^{-1})\\frac{\\partial K}{\\partial \\theta} \\right).\n",
    "$$\n",
    "\n",
    "(See Ch. 5.4.1 in [GPML](http://www.gaussianprocess.org/gpml/chapters/RW.pdf) for details.)"
   ]
  },
  {
   "cell_type": "markdown",
   "metadata": {},
   "source": [
    "### Optimize kernel\n",
    "The cell below will optimize the parameters of your kernel if you have a correct implementation of `dK_dl` by *minimizing* the *negative* of the expression above"
   ]
  },
  {
   "cell_type": "code",
   "execution_count": null,
   "metadata": {},
   "outputs": [],
   "source": [
    "SE_sigma=1e0\n",
    "SE_ell=1e0\n",
    "th=np.array([SE_sigma,SE_ell])\n",
    "\n",
    "# noise scale is not being optimized\n",
    "noise=0.3\n",
    "\n",
    "def neg_log_ml(th,noise):\n",
    "    Kse= SquareExponential(sigma=th[0],ell=th[1],noise=noise)\n",
    "    alpha,log_ml=Kse.condition_f_observation(X,Y)\n",
    "    derivatives=[]\n",
    "    for K_der in [Kse.dK_dsigma,Kse.dK_dl]:\n",
    "        dK_dthi = K_der(X)\n",
    "        derivatives.append(0.5*np.sum(alpha.T.dot(dK_dthi.dot(alpha)))-0.5*np.trace(np.linalg.solve(Kse.L.T,np.linalg.solve(Kse.L,dK_dthi)))) \n",
    "    return -log_ml,-np.array(derivatives)\n",
    "\n",
    "\n",
    "res=scipy.optimize.minimize(neg_log_ml,th,args=(noise),jac=True,options={'maxiter':25})\n",
    "print(res.x)\n",
    "print(f'Optimized values: \\nSE_sigma={res.x[0]:.3f} \\n  SE_ell={abs(res.x[1]):.3f}')"
   ]
  },
  {
   "cell_type": "code",
   "execution_count": null,
   "metadata": {},
   "outputs": [],
   "source": [
    "####################\n",
    "# Same cell as above but with optimized hyperparameters\n",
    "####################\n",
    "SE_sigma=res.x[0]\n",
    "SE_ell=res.x[1]\n",
    "\n",
    "Kse=SquareExponential(sigma=SE_sigma,ell=SE_ell,noise=0.3)\n",
    "\n",
    "# alpha = inv(K_y).dot(Y)\n",
    "alpha,log_ml=Kse.condition_f_observation(X,Y)\n",
    "\n",
    "print('Log marginal likelihood: {}'.format(log_ml))\n",
    "\n",
    "# Make predictions at x\n",
    "x=np.linspace(0,1).reshape(-1,1)#X\n",
    "\n",
    "# Calculate covariance between test data x and training data X\n",
    "KxX=Kse.K(x,X)\n",
    "\n",
    "#Calculate mean\n",
    "fx=KxX.dot(alpha)\n",
    "\n",
    "#Calculate variance\n",
    "v=np.linalg.solve(Kse.L,KxX.T).T\n",
    "f_std=np.sqrt(np.diag(Kse.K(x,x) - v.dot(v.T)))\n",
    "\n",
    "#plot data, mean and variance\n",
    "plt.figure()\n",
    "plt.plot(x,forrester(x),'k',label='Real function')\n",
    "plt.plot(x,fx,'C1',label='f(x)')\n",
    "plt.fill_between(x.ravel(),fx.ravel()-1.96*f_std,fx.ravel()+1.96*f_std,color='C1',alpha=0.3,label='95%')\n",
    "plt.scatter(X,Y,alpha=1,marker='o',color='C0',label='Data')\n",
    "plt.legend()\n",
    "plt.show()"
   ]
  },
  {
   "cell_type": "markdown",
   "metadata": {},
   "source": [
    "## Concluding remarks \n",
    "You have now implemented a simple example of GP inference and seen what is required to do hyperparameter optimization. Any GP library you find will implement this functionality in one way or another."
   ]
  },
  {
   "cell_type": "markdown",
   "metadata": {},
   "source": [
    "# Task 2\n",
    "We will now move on to modelling of the CO$_2$ data by using the functionality provided by `scikit-learn`. We start by reading the data from the provided textfile and plotting it."
   ]
  },
  {
   "cell_type": "code",
   "execution_count": 10,
   "metadata": {},
   "outputs": [
    {
     "data": {
      "image/png": "[encoded data removed]",
      "text/plain": [
       "<Figure size 360x288 with 1 Axes>"
      ]
     },
     "metadata": {
      "needs_background": "light"
     },
     "output_type": "display_data"
    }
   ],
   "source": [
    "filename=\"co2_mm_mlo.txt\"\n",
    "data=np.genfromtxt(filename,comments='#',missing_values='-99.99',usecols=[2,3])\n",
    "missing=data[:,-1]==-99.99\n",
    "data=data[~missing]\n",
    "Xfull=data[:,0:1]\n",
    "Yfull=data[:,-1:]\n",
    "data=[]\n",
    "I=Xfull<2015\n",
    "\n",
    "#Training data up until 2015\n",
    "X=Xfull[I].reshape(-1,1)\n",
    "Y=Yfull[I].reshape(-1,1)\n",
    "\n",
    "# Test data 2015 and later\n",
    "Xtest=Xfull[~I]\n",
    "Ytest=Yfull[~I]\n",
    "\n",
    "\n",
    "Xmean=np.mean(X)\n",
    "Ymean=np.mean(Y)\n",
    "\n",
    "\n",
    "X-=Xmean\n",
    "Y-=Ymean\n",
    "\n",
    "Xtest-=Xmean\n",
    "Ytest-=Ymean\n",
    "\n",
    "\n",
    "plt.figure(figsize=(5,4))\n",
    "plt.plot(X+Xmean,Y+Ymean)\n",
    "plt.plot(Xtest+Xmean,Ytest+Ymean)\n",
    "plt.title(r'$CO_2$ concentration')\n",
    "plt.xlabel('year')\n",
    "plt.ylabel(r'$CO_2$ [ppm]')\n",
    "plt.show()"
   ]
  },
  {
   "cell_type": "markdown",
   "metadata": {},
   "source": [
    "There are several frameworks available for GP inference of which one of the most popular due to its simplicity is provided in `scikit-learn`. \n",
    "Other popular frameworks for python include: [GPy](https://gpy.readthedocs.io/en/deploy/), [GPFlow](https://www.gpflow.org/) and [GPytorch](https://gpytorch.readthedocs.io/en/latest/).\n",
    "\n",
    "The cell below will load the available kernels and functionality."
   ]
  },
  {
   "cell_type": "code",
   "execution_count": null,
   "metadata": {},
   "outputs": [],
   "source": [
    "# Necessary packages for second part\n",
    "from sklearn.gaussian_process import GaussianProcessRegressor\n",
    "from sklearn.gaussian_process.kernels import (RBF, RationalQuadratic,\n",
    "                                              ExpSineSquared, DotProduct,Matern,\n",
    "                                              ConstantKernel as C,WhiteKernel)"
   ]
  },
  {
   "cell_type": "markdown",
   "metadata": {},
   "source": [
    "The available kernels are:\n",
    "- RBF/Square Exponential/Gaussian/Exponentiated Quadratic\n",
    "- Rational Quadratic\n",
    "- Exponential Sine Squared\n",
    "- Dot Product\n",
    "- Constant\n",
    "- White Noise Kernel\n",
    "- Matern\n",
    "\n",
    "## Information\n",
    "**Check** the [**Kernel cookbook**](https://www.cs.toronto.edu/~duvenaud/cookbook/) for intuition on how to use and combine the different kernels. \n",
    "It will explain the first 4 kernels in the list and show examples of adding and multiplying kernels together.\n",
    "\n",
    "\n",
    "## Additional\n",
    "The **`Constant`** kernel corresponds to a multiplicative factor that can be used together with other kernels to learn the scale of the kernel. \n",
    "For example: the RBF kernel is implemented as $K_{RBF}(x,y)= \\exp\\left(-\\frac{d(x,y)^2}{2\\ell^2} \\right)$. \n",
    "To get a kernel with variance/scale different from 1 we can use:\n",
    "```python\n",
    "    K1 = 2.8 * RBF(length_scale=3.0)\n",
    "    #Is equivalent to\n",
    "    K1 = ConstantKernel(constant_value=2.8) * RBF(length_scale=3.0)\n",
    "```\n",
    "\n",
    "The **`WhiteKernel`** corresponds to uncorrelated gaussian noise and has kernel $K_W(x,y)=\\sigma^2 \\delta_{xy}$ corresponding to a diagonal Gram matrix. It is the only kernel in the implementation with a built-in scaling/ConstanKernel.\n",
    "\n",
    "\n",
    "The last kernel on the list is the **`Matern`** family ([definition](https://en.wikipedia.org/wiki/Mat%C3%A9rn_covariance_function)). \n",
    "It is often seen as a more realistic alternative to the RBF since they have similar behaviour but it is not infinitely continuously differentiable. The parameter $\\nu$ (\"nu\") controls the smoothness of the functions from these kernels as:\n",
    "- $\\nu=1/2$: no continuous derivative\n",
    "- $\\nu=3/2$: 1 continuous derivative\n",
    "- $\\nu=5/2$: 2 continuous derivatives\n",
    "\n",
    "\n",
    "\n",
    "## Further tips\n",
    "- It is possible to define bounds (2 limits or \"fixed\") for the hyperparameters when defining the kernel if you know that the hyperparameter should have a fixed value or limited to a smaller range.\n",
    "- The optimization landscape of the hyperparameters has several local minima, therefore it is good to initialize hyperparameters closer to reasonable values. \n",
    "- Kernels are automatically combined into a more complex kernel by the addition and mutliplication operations:\n",
    "```python\n",
    "kernel = 2.0*RationalQuadratic(length_scale=2,alpha=3,length_scale_bounds=(1e0, 1e1),\n",
    "    alpha_bounds=\"fixed\")*RBF() + WhiteKernel()\n",
    "```\n",
    "\n"
   ]
  },
  {
   "cell_type": "markdown",
   "metadata": {},
   "source": [
    "# Task 2\n",
    "It can take a while to fit a GP to the full data so you can use the cell below to get familiar with the framework and kernels by training on a small subset."
   ]
  },
  {
   "cell_type": "code",
   "execution_count": null,
   "metadata": {},
   "outputs": [],
   "source": [
    "# Small training set\n",
    "Xsmall=np.copy(X[-120:])\n",
    "Ysmall=np.copy(Y[-120:])\n",
    "\n",
    "Xsmall-=np.mean(Xsmall)\n",
    "Ysmall-=np.mean(Ysmall)\n",
    "\n",
    "# Test points to evaluate\n",
    "x=np.linspace(Xsmall[0]-2,Xsmall[-1]+2,200) \n",
    "\n",
    "\n",
    "####################\n",
    "# Define your kernel\n",
    "####################\n",
    "kernel = None\n",
    "####################\n",
    "\n",
    "# Instantiate a Gaussian Process model\n",
    "gp = GaussianProcessRegressor(kernel=kernel, n_restarts_optimizer=1)\n",
    "\n",
    "\n",
    "# Sample from prior at x\n",
    "y_prior_mean, sigma_prior = gp.predict(x, return_std=True)\n",
    "y_samples = gp.sample_y(x, 3)\n",
    "\n",
    "\n",
    "# Plot prior samples\n",
    "plt.figure()\n",
    "plt.title('Prior')\n",
    "plt.plot(x, y_prior_mean, 'b-', label='Prior mean')\n",
    "plt.plot(x, y_samples)\n",
    "\n",
    "plt.fill_between(x.ravel(),y_prior_mean - 1.96 * sigma_prior,y_prior_mean + 1.96 * sigma_prior,\n",
    "         alpha=.3, fc='b', ec='None', label='95% confidence interval')\n",
    "\n",
    "plt.xlabel('$x$')\n",
    "plt.ylabel('$y$')\n",
    "plt.legend(loc='upper left')\n",
    "\n",
    "\n",
    "# Fit to data using Maximum Likelihood Estimation of the parameters\n",
    "gp.fit(Xsmall, Ysmall)\n",
    "\n",
    "\n",
    "#Predict mean and standard deviation\n",
    "y_pred, sigma = gp.predict(x, return_std=True)\n",
    "\n",
    "# Plot the function, the prediction and the 95% confidence interval\n",
    "plt.figure()\n",
    "plt.title(f'Posterior [{gp.log_marginal_likelihood():.2f}]')\n",
    "plt.plot(Xsmall, Ysmall, 'r.', markersize=5,alpha=0.7, label='Observations')\n",
    "plt.plot(x, y_pred, 'b-', label='Prediction')\n",
    "plt.fill_between(x.ravel(),y_pred.ravel() - 1.96 * sigma,y_pred.ravel() + 1.96 * sigma,\n",
    "         alpha=.3, fc='b', ec='None', label='95% confidence interval')\n",
    "plt.xlabel('$x$')\n",
    "plt.ylabel('$y$')\n",
    "plt.legend(loc='upper left')\n",
    "plt.show()\n",
    "\n",
    "print('Prior:     ',gp.kernel)\n",
    "print('Posterior: ',gp.kernel_)\n",
    "print('log marginal likelihood: {:.2f}'.format(gp.log_marginal_likelihood()))"
   ]
  },
  {
   "cell_type": "markdown",
   "metadata": {},
   "source": [
    "# Task 2: Model the CO$_2$ data\n",
    "You now have all the tools required for modelling the data. \n",
    "\n",
    "**Tasks**\n",
    "1. Construct your kernel and fit your `GaussianProcessRegressor` in the cell below.\n",
    "2. Write down the individual components of the kernel you decide to use below (replace the example) and provide a description of their purpose.\n",
    "3. Plot the prediction and 95% confidence interval over the training data and 40 years into the future.\n",
    "\n",
    "\n",
    "\n",
    "\n",
    "======================================\n",
    "\n",
    "Example:\n",
    "$$\n",
    "K = K_1 + K_2\n",
    "$$\n",
    "- $K_1=DP$: long term rising trend\n",
    "- $K_2=K_W$: additive white noise\n",
    "\n",
    "======================================\n",
    "\n",
    "\n",
    "Use the following abbreviations:\n",
    "- RBF: RBF\n",
    "- Rational Quadratic: RQ\n",
    "- Exponential Sine Squared: ESS\n",
    "- Dot Product: DP\n",
    "- Constant\n",
    "- White Noise Kernel: W\n",
    "- Matern: M(nu)\n"
   ]
  },
  {
   "cell_type": "code",
   "execution_count": null,
   "metadata": {},
   "outputs": [],
   "source": [
    "####################\n",
    "# Define your kernel\n",
    "####################\n",
    "kernel = None\n",
    "####################\n",
    "\n",
    "# You can try with more restarts once you have settled on a good kernel\n",
    "gp = GaussianProcessRegressor(kernel=kernel, n_restarts_optimizer=1)\n",
    "\n",
    "# Fit hyperparameters to training data X,Y\n",
    "gp.fit(X, Y)\n",
    "\n",
    "# Print information about prior and posterior parameters\n",
    "print('log marginal likelihood: {:.2f}'.format(gp.log_marginal_likelihood()))\n",
    "print()\n",
    "print('Prior:\\n',gp.kernel)\n",
    "print()\n",
    "print('Posterior:\\n',gp.kernel_)"
   ]
  },
  {
   "cell_type": "markdown",
   "metadata": {},
   "source": [
    "**Plot your prediction and 95% confidence interval**"
   ]
  },
  {
   "cell_type": "code",
   "execution_count": null,
   "metadata": {},
   "outputs": [],
   "source": [
    "# Predict function value and uncertainty at x which covers\n",
    "# the training data and 40 years in the future\n",
    "x=np.linspace(X[0],X[-1]+40,2000)\n",
    "\n",
    "Y_pred, sigma = gp.predict(x, return_std=True)\n",
    "\n",
    "plt.figure()\n",
    "plt.title(f'Prediction')\n",
    "plt.plot(X+Xmean, Y+Ymean, 'r.', markersize=5,alpha=0.5, label='Observations')\n",
    "plt.plot(Xtest+Xmean, Ytest+Ymean, 'C1.', markersize=5,alpha=0.5, label='Test')\n",
    "plt.plot(x+Xmean, Y_pred + Ymean, 'b')\n",
    "plt.fill_between(x.ravel() + Xmean, Y_pred.ravel() + Ymean - 1.96 * sigma, Y_pred.ravel() + Ymean + 1.96 * sigma,\n",
    "         alpha=.3, fc='b', ec='None', label='95% confidence interval')\n",
    "\n",
    "\n",
    "plt.xlabel('$x$')\n",
    "plt.ylabel('$y$')\n",
    "plt.legend(loc='upper left')\n",
    "\n",
    "plt.show()"
   ]
  },
  {
   "cell_type": "code",
   "execution_count": null,
   "metadata": {},
   "outputs": [],
   "source": []
  }
 ],
 "metadata": {
  "interpreter": {
   "hash": "5cf590adf64b12f100e2631293f66eedf21812d31d21d345d3dafaac5b13c0f5"
  },
  "kernelspec": {
   "display_name": "Python 3 (ipykernel)",
   "language": "python",
   "name": "python3"
  },
  "language_info": {
   "codemirror_mode": {
    "name": "ipython",
    "version": 3
   },
   "file_extension": ".py",
   "mimetype": "text/x-python",
   "name": "python",
   "nbconvert_exporter": "python",
   "pygments_lexer": "ipython3",
   "version": "3.9.18"
  }
 },
 "nbformat": 4,
 "nbformat_minor": 2
}
